{
 "cells": [
  {
   "cell_type": "markdown",
   "metadata": {},
   "source": [
    "# Concepts in MOO\n",
    "\n",
    "In this notebook we shall see how to \n",
    "\n",
    "1. Compute non-dominated set of solutions from a set of pool of points\n",
    "2. How to compute hyper volume given a non-dominated set of solutions and a reference point"
   ]
  },
  {
   "cell_type": "code",
   "execution_count": 2,
   "metadata": {},
   "outputs": [],
   "source": [
    "!pip install matplotlib > /dev/null 2>&1"
   ]
  },
  {
   "cell_type": "markdown",
   "metadata": {},
   "source": [
    "## 2D Case \n",
    "\n",
    "Let us create some 2D points to start with. We will generate 100 points. We will generate a random points in a circle with radius $r=(0, 1)$ and $\\theta=(0., 2\\pi)$. We will simply use (-x, -y) so that we can find the minimum "
   ]
  },
  {
   "cell_type": "code",
   "execution_count": 3,
   "metadata": {},
   "outputs": [
    {
     "data": {
      "image/png": "[encoded data removed]",
      "text/plain": [
       "<Figure size 800x600 with 1 Axes>"
      ]
     },
     "metadata": {},
     "output_type": "display_data"
    }
   ],
   "source": [
    "# Generate some points. \n",
    "\n",
    "import random, math\n",
    "import matplotlib.pyplot as plt\n",
    "\n",
    "n_points = 100\n",
    "r_points = [-1.*random.random() for _ in range(n_points)] #0 - 1\n",
    "th_points = [random.uniform(0., 2*math.pi) for _ in range(n_points)] #circle\n",
    "\n",
    "points = [(r_points[i]*abs(math.cos(th_points[i])), r_points[i]*abs(math.sin(th_points[i]))) for i in range(n_points)]\n",
    "\n",
    "\n",
    "# Print the results.\n",
    "plt.figure(1, figsize=(8, 6))\n",
    "plt.plot([p[0] for p in points], [p[1] for p in points], 'bo', label='All points')\n",
    "plt.xlabel('x', fontsize=14)\n",
    "plt.ylabel('y', fontsize=14)\n",
    "plt.legend()\n",
    "plt.xlim(-1, 1)\n",
    "plt.ylim(-1, 1)\n",
    "plt.show()"
   ]
  },
  {
   "cell_type": "markdown",
   "metadata": {},
   "source": [
    "## Non dominated sorting\n",
    "\n",
    "Non-dominated sorting is a technique used in multi-objective optimization to identify the Pareto-optimal solutions from a set of candidate solutions. In multi-objective optimization, we aim to optimize multiple conflicting objectives simultaneously.\n",
    "\n",
    "Mathematically, let's consider a set of solutions S, where each solution s ∈ S is represented by a vector of objective values f(s) = (f1(s), f2(s), ..., fn(s)). The goal of non-dominated sorting is to partition the set S into different fronts, where each front contains solutions that are not dominated by any other solution in the same front.\n",
    "\n",
    "A solution s1 dominates another solution s2 if and only if:\n",
    "1. For all objectives i, $f_{i}(s_{1}) ≤ f_{i}(s_{2})$, and\n",
    "2. There exists at least one objective j such that fj(s1) < fj(s2).\n",
    "\n",
    "To perform non-dominated sorting, we can use the following steps:\n",
    "\n",
    "1. Initialize an empty list of fronts, F.\n",
    "2. Initialize an empty set of solutions that are dominated by other solutions, D.\n",
    "3. For each solution s in S, do the following:\n",
    "    a. Initialize the domination count, n_dom, as 0.\n",
    "    b. Initialize an empty set of solutions that s dominates, S_dom.\n",
    "    c. For each solution p in S, excluding s, do the following:\n",
    "        i. If s dominates p, add p to S_dom.\n",
    "        ii. If p dominates s, increment n_dom by 1.\n",
    "    d. If n_dom is 0, add s to the first front (F[0]).\n",
    "    e. If n_dom > 0, add s to D and store S_dom as the set of solutions dominated by s.\n",
    "4. Initialize the front index, i, as 0.\n",
    "5. While F[i] is not empty, do the following:\n",
    "    a. Initialize an empty list for the next front, F_next.\n",
    "    b. For each solution s in F[i], do the following:\n",
    "        i. For each solution q in the set of solutions dominated by s, do the following:\n",
    "            - Decrement the domination count of q by 1.\n",
    "            - If the domination count of q becomes 0, add q to F_next.\n",
    "    c. Increment i by 1.\n",
    "    d. Append F_next to F.\n",
    "6. Return the list of fronts, F, where each front contains non-dominated solutions.\n",
    "\n",
    "Now, let's build a function that performs non-dominated sorting:\n",
    "\n",
    "In the above code, the `dominates()` function is a helper function that checks if one solution dominates another based on the defined dominance criteria.\n",
    "\n",
    "You can use this `non_dominated_sorting()` function to perform non-dominated sorting on a set of solutions and obtain the Pareto-optimal fronts."
   ]
  },
  {
   "cell_type": "code",
   "execution_count": 4,
   "metadata": {},
   "outputs": [],
   "source": [
    "def dominates(point1, point2, epsilon=1e-4):\n",
    "    \"\"\" Check if point1 dominates point2 based on two criteria (minimization). \"\"\"\n",
    "    return all(p1 <= p2 + epsilon for p1, p2 in zip(point1, point2)) and any(p1 < p2 - epsilon for p1, p2 in zip(point1, point2))\n",
    "\n",
    "def non_dominated_solutions(points, epsilon=1e-4):\n",
    "    \"\"\" Find non-dominated solutions (Pareto front) from a list of points. \"\"\"\n",
    "    dominated = set()\n",
    "    pareto_front = []\n",
    "\n",
    "    for i, point1 in enumerate(points):\n",
    "        if i in dominated:\n",
    "            continue\n",
    "        pareto_front.append(point1)\n",
    "        for j, point2 in enumerate(points[i + 1:], start=i + 1):\n",
    "            if dominates(point1, point2, epsilon):\n",
    "                dominated.add(j)\n",
    "            elif dominates(point2, point1, epsilon):\n",
    "                pareto_front.pop()\n",
    "                break\n",
    "\n",
    "    return pareto_front"
   ]
  },
  {
   "cell_type": "markdown",
   "metadata": {},
   "source": [
    "### Computational complexity of this \n",
    "\n",
    "\n",
    "**Outer Loop (First For Loop)**:\n",
    "The outer loop iterates over each point in the list points.\n",
    "If there are `n` points, this loop runs `n` times.\n",
    "\n",
    " - Complexity: $O(n)$\n",
    "\n",
    "**Inner Loop (Second For Loop)**:\n",
    "\n",
    "The inner loop iterates over each subsequent point in the list points starting from i + 1 (where i is the current index of the outer loop).\n",
    "\n",
    "For each point point1, it compares against all subsequent points point2 to determine dominance.\n",
    "\n",
    "In the worst case, if all points are non-dominated, each point point1 might be compared against all n−i−1 points in the inner loop.\n",
    "\n",
    " - Complexity: $O(n^{2})$ in the worst case, where each point is compared against all other points.\n",
    "\n",
    "**Domination Check (dominates Function)**:\n",
    "\n",
    "The dominates function compares two points in three dimensions, which is O(3)O(3) or O(1)O(1) constant time operation (since the dimensions are fixed).\n",
    "\n",
    "**Space Complexity**:\n",
    "        \n",
    "The space complexity is primarily determined by the dominated set and the pareto_front list.\n",
    "In the worst case, both can grow up to nn in size, resulting in $O(n)$ space complexity.\n",
    "\n",
    "**Total Computational Complexity**\n",
    "\n",
    "Given the analysis above, the overall computational complexity of finding the Pareto front using the provided algorithm is dominated by the inner loop, which is $O(n^{2})$.\n",
    "\n",
    "\n",
    "Let us now plot and check if it works"
   ]
  },
  {
   "cell_type": "code",
   "execution_count": 5,
   "metadata": {},
   "outputs": [
    {
     "name": "stdout",
     "output_type": "stream",
     "text": [
      "Non-dominated solutions (Pareto front): [(-0.5694542080007379, -0.7434641185110589), (-0.6543854751110332, -0.7277998798995667), (-0.19274104029388064, -0.9033007125515538), (-0.7738403742573928, -0.6178972838143616), (-0.4437855007930783, -0.8525360388260191), (-0.95961560428118, -0.09896542223440288), (-0.8167051990970187, -0.42179471476933983), (-0.04137430062881211, -0.9452899322878305)]\n"
     ]
    },
    {
     "data": {
      "image/png": "[encoded data removed]",
      "text/plain": [
       "<Figure size 800x600 with 1 Axes>"
      ]
     },
     "metadata": {},
     "output_type": "display_data"
    }
   ],
   "source": [
    "pareto_front = non_dominated_solutions(points)\n",
    "print(\"Non-dominated solutions (Pareto front):\", pareto_front)\n",
    "\n",
    "plt.figure(2, figsize=(8, 6))\n",
    "plt.plot([p[0] for p in points], [p[1] for p in points], 'bo', label='All points')\n",
    "plt.plot([p[0] for p in pareto_front], [p[1] for p in pareto_front], 'ro', label='Nondominated points')\n",
    "plt.xlabel('x', fontsize=14)\n",
    "plt.ylabel('y', fontsize=14)\n",
    "plt.legend()\n",
    "plt.show()"
   ]
  },
  {
   "cell_type": "markdown",
   "metadata": {},
   "source": [
    "## Excersise:\n",
    "\n",
    "### 1. Can you implement the same function but for maximization?\n",
    "### 2. Can you implement the same function but for 3D points?\n",
    "### 3. Can you have an isight on how to go about a `N-D` case?"
   ]
  },
  {
   "cell_type": "markdown",
   "metadata": {},
   "source": [
    "## Computing Hyper Volume\n",
    "\n",
    "Let us remind ourself about MOO and what hypervolume is \n",
    "\n",
    "![image.png](../images/moo_concept/hv_recap.png)\n",
    "\n",
    "In multi-objective optimization (MOO), the goal is to find a set of solutions that represents the trade-off between multiple conflicting objectives. One way to evaluate the quality of these solutions is by using a metric called hypervolume.\n",
    "\n",
    "### Hypervolume\n",
    "\n",
    "Hypervolume is a measure of the dominated space in the objective space. It quantifies the extent of the Pareto-optimal front, which represents the best possible trade-off between the objectives. The hypervolume metric considers both the spread and density of solutions in the objective space.\n",
    "\n",
    "The hypervolume is calculated by defining a reference point, which represents the ideal values for each objective. The hypervolume is then computed as the volume of the dominated space between the Pareto-optimal front and the reference point.\n",
    "\n",
    "### Convergence Tracking\n",
    "\n",
    "Convergence tracking is an important aspect of MOO algorithms. It helps us understand how well the algorithm is progressing towards finding the Pareto-optimal front. Hypervolume is a useful tool for tracking convergence because it provides a quantitative measure of the quality of the obtained solutions.\n",
    "\n",
    "As the MOO algorithm iteratively improves the solutions, the hypervolume should increase. A higher hypervolume indicates a larger dominated space, which means that the algorithm is finding better solutions that are closer to the true Pareto-optimal front.\n",
    "\n",
    "By monitoring the hypervolume over iterations, we can assess the convergence behavior of the algorithm. If the hypervolume increases rapidly and then plateaus, it may indicate that the algorithm has reached a local optimum. On the other hand, if the hypervolume continues to increase steadily, it suggests that the algorithm is exploring the solution space effectively and converging towards the true Pareto-optimal front.\n",
    "\n",
    "### Tracking Convergence with Hypervolume\n",
    "\n",
    "To track convergence using hypervolume, we can calculate the hypervolume at each iteration of the MOO algorithm and plot it over time. This allows us to visualize the progress of the algorithm and make informed decisions about when to stop the optimization process.\n",
    "\n",
    "By analyzing the hypervolume plot, we can gain insights into the convergence behavior of the MOO algorithm. If the hypervolume increases steadily and reaches a plateau, it suggests that the algorithm has converged. On the other hand, if the hypervolume fluctuates or decreases, it indicates that the algorithm is not converging effectively and may require further adjustments.\n",
    "\n",
    "Tracking convergence using hypervolume provides a quantitative measure of the optimization progress and helps in making informed decisions during the MOO process.\n",
    "\n",
    "\n",
    "```{tip}\n",
    "Can you think on how can you compute this hypervolume for a 2D case?\n",
    "```"
   ]
  },
  {
   "cell_type": "code",
   "execution_count": null,
   "metadata": {},
   "outputs": [],
   "source": [
    "import numpy as np\n",
    "import matplotlib.pyplot as plt\n",
    "\n",
    "def compute_hypervolume(points, reference_point):\n",
    "    \"\"\"\n",
    "    Compute the hypervolume from a given set of 2D points which are non-dominating solutions.\n",
    "    \n",
    "    Args:\n",
    "        points (list): List of 2D points representing non-dominating solutions.\n",
    "        reference_point (tuple): Reference point as a 2D point.\n",
    "        \n",
    "    Returns:\n",
    "        float: The hypervolume of the non-dominating solutions.\n",
    "    \"\"\"\n",
    "    # Sort the points based on the x-coordinate in ascending order\n",
    "    sorted_points = sorted(points, key=lambda p: p[0])\n",
    "    \n",
    "    # Initialize the hypervolume to 0\n",
    "    hypervolume = 0\n",
    "    \n",
    "    \n",
    "    # Iterate over the sorted points\n",
    "    for i in range(len(sorted_points)-1):\n",
    "        \n",
    "        # Update the hypervolume\n",
    "        # x1, y1 = reference_point\n",
    "        # x2, y2 = point\n",
    "        # x3, y3 = point[i+1]\n",
    "        x1, y1 = reference_point\n",
    "        x2, y2 = sorted_points[i]\n",
    "        x3, y3 = sorted_points[i+1]\n",
    "        if x1 < x2 or x1 < x3:\n",
    "            continue\n",
    "        else:\n",
    "            hypervolume += (0.5*(x1*(y2-y3) + x2*(y3-y1) + x3*(y1-y2)))\n",
    "    \n",
    "    return hypervolume"
   ]
  },
  {
   "cell_type": "code",
   "execution_count": null,
   "metadata": {},
   "outputs": [],
   "source": [
    "# draw the hypervolume\n",
    "\n",
    "def draw_hypervolume(points, reference_point):\n",
    "    \"\"\"\n",
    "    Draw the hypervolume from a given set of 2D points which are non-dominating solutions.\n",
    "    \n",
    "    Args:\n",
    "        points (list): List of 2D points representing non-dominating solutions.\n",
    "        reference_point (tuple): Reference point as a 2D point.\n",
    "    \"\"\"\n",
    "    # Sort the points based on the x-coordinate in ascending order\n",
    "    sorted_points = sorted(points, key=lambda p: p[0])\n",
    "    \n",
    "    # Initialize the hypervolume to 0\n",
    "    hypervolume = 0\n",
    "    \n",
    "    # Initialize the plot\n",
    "    fig, ax = plt.subplots()\n",
    "    \n",
    "    # Iterate over the sorted points\n",
    "    for i in range(len(sorted_points)-1):\n",
    "        \n",
    "        # Update the hypervolume\n",
    "        x1, y1 = reference_point\n",
    "        x2, y2 = sorted_points[i]\n",
    "        x3, y3 = sorted_points[i+1]\n",
    "        if x1 < x2 or x1 < x3:\n",
    "            continue\n",
    "        else:\n",
    "            hypervolume += (0.5*(x1*(y2-y3) + x2*(y3-y1) + x3*(y1-y2)))\n",
    "        \n",
    "        # Plot the hypervolume\n",
    "        polygon = plt.Polygon([reference_point, sorted_points[i], sorted_points[i+1]], edgecolor='r', facecolor='r', alpha=0.2)\n",
    "        ax.add_patch(polygon)\n",
    "    \n",
    "    # Plot the points\n",
    "    ax.scatter([p[0] for p in points], [p[1] for p in points], c='b', marker='o', label='All points')\n",
    "    \n",
    "    # Plot the reference point\n",
    "    ax.scatter(reference_point[0], reference_point[1], c='g', marker='x', label='Reference point')\n",
    "    \n",
    "    # Set the labels\n",
    "    ax.set_xlabel('X')\n",
    "    ax.set_ylabel('Y')\n",
    "    \n",
    "    # Set the title\n",
    "    ax.set_title(f'Hypervolume: {hypervolume}')\n",
    "    \n",
    "    # Show the plot\n",
    "    plt.legend()\n",
    "    plt.show()\n",
    "    \n",
    "    draw_hypervolume(pareto_front, reference_point)"
   ]
  },
  {
   "cell_type": "code",
   "execution_count": 7,
   "metadata": {},
   "outputs": [
    {
     "name": "stdout",
     "output_type": "stream",
     "text": [
      "Hypervolume: 1.8612936891249279\n"
     ]
    }
   ],
   "source": [
    "\n",
    "n_points = 100\n",
    "r_points = [-1.*random.random() for _ in range(n_points)] #0 - 1\n",
    "th_points = [random.uniform(0., 2*math.pi) for _ in range(n_points)] #circle\n",
    "\n",
    "points = [(r_points[i]*abs(math.cos(th_points[i])), r_points[i]*abs(math.sin(th_points[i]))) for i in range(n_points)]\n",
    "\n",
    "pareto_front = non_dominated_solutions(points)\n",
    "\n",
    "reference_point = (0.5, 0.5)\n",
    "\n",
    "hypervolume = compute_hypervolume(pareto_front, reference_point)\n",
    "print(\"Hypervolume:\", hypervolume)\n",
    "\n"
   ]
  },
  {
   "cell_type": "markdown",
   "metadata": {},
   "source": [
    "## Excersise\n",
    "\n",
    "### 0. Could you perhaps check if HV is monotonic as you go through different fronts? Should it increase or decrease?\n",
    "### 1. Can you identify the computational complexity of this function?\n",
    "### 2. Can you extend this to 3D and how would you generalize this to `n-D` objectives?\n",
    "### 3. This way of computing hypervolume can result in having smaller non monotonic functions. How can one circumvent that (Thanks and Credits to Shannon Zelitch)\n",
    "\n",
    "\n",
    "## Food for thought\n",
    "\n",
    "Could you comment on the accuracy of computing hypervolumes by this method"
   ]
  },
  {
   "cell_type": "markdown",
   "metadata": {},
   "source": []
  }
 ],
 "metadata": {
  "kernelspec": {
   "display_name": "env_bootcamp2024",
   "language": "python",
   "name": "python3"
  },
  "language_info": {
   "codemirror_mode": {
    "name": "ipython",
    "version": 3
   },
   "file_extension": ".py",
   "mimetype": "text/x-python",
   "name": "python",
   "nbconvert_exporter": "python",
   "pygments_lexer": "ipython3",
   "version": "3.12.4"
  }
 },
 "nbformat": 4,
 "nbformat_minor": 2
}
