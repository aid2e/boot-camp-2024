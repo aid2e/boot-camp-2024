{
 "cells": [
  {
   "cell_type": "markdown",
   "metadata": {},
   "source": [
    "# Concepts in MOO\n",
    "\n",
    "In this notebook we shall see how to \n",
    "\n",
    "1. Compute non-dominated set of solutions from a set of pool of points\n",
    "2. How to compute hyper volume given a non-dominated set of solutions and a reference point"
   ]
  },
  {
   "cell_type": "code",
   "execution_count": 9,
   "metadata": {},
   "outputs": [
    {
     "name": "stdout",
     "output_type": "stream",
     "text": [
      "Requirement already satisfied: matplotlib in /home/pavi/anaconda3/envs/env_bootcamp2024/lib/python3.12/site-packages (3.9.1)\n",
      "Requirement already satisfied: contourpy>=1.0.1 in /home/pavi/anaconda3/envs/env_bootcamp2024/lib/python3.12/site-packages (from matplotlib) (1.2.1)\n",
      "Requirement already satisfied: cycler>=0.10 in /home/pavi/anaconda3/envs/env_bootcamp2024/lib/python3.12/site-packages (from matplotlib) (0.12.1)\n",
      "Requirement already satisfied: fonttools>=4.22.0 in /home/pavi/anaconda3/envs/env_bootcamp2024/lib/python3.12/site-packages (from matplotlib) (4.53.1)\n",
      "Requirement already satisfied: kiwisolver>=1.3.1 in /home/pavi/anaconda3/envs/env_bootcamp2024/lib/python3.12/site-packages (from matplotlib) (1.4.5)\n",
      "Requirement already satisfied: numpy>=1.23 in /home/pavi/anaconda3/envs/env_bootcamp2024/lib/python3.12/site-packages (from matplotlib) (2.0.0)\n",
      "Requirement already satisfied: packaging>=20.0 in /home/pavi/anaconda3/envs/env_bootcamp2024/lib/python3.12/site-packages (from matplotlib) (24.1)\n",
      "Requirement already satisfied: pillow>=8 in /home/pavi/anaconda3/envs/env_bootcamp2024/lib/python3.12/site-packages (from matplotlib) (10.4.0)\n",
      "Requirement already satisfied: pyparsing>=2.3.1 in /home/pavi/anaconda3/envs/env_bootcamp2024/lib/python3.12/site-packages (from matplotlib) (3.1.2)\n",
      "Requirement already satisfied: python-dateutil>=2.7 in /home/pavi/anaconda3/envs/env_bootcamp2024/lib/python3.12/site-packages (from matplotlib) (2.9.0.post0)\n",
      "Requirement already satisfied: six>=1.5 in /home/pavi/anaconda3/envs/env_bootcamp2024/lib/python3.12/site-packages (from python-dateutil>=2.7->matplotlib) (1.16.0)\n"
     ]
    }
   ],
   "source": [
    "!pip install matplotlib"
   ]
  },
  {
   "cell_type": "markdown",
   "metadata": {},
   "source": [
    "## 2D Case \n",
    "\n",
    "Let us create some 2D points to start with. We will generate 100 points. We will generate a random points in a circle with radius $r=(0, 1)$ and $\\theta=(0., 2\\pi)$. We will simply use (-x, -y) so that we can find the minimum "
   ]
  },
  {
   "cell_type": "code",
   "execution_count": 25,
   "metadata": {},
   "outputs": [
    {
     "data": {
      "image/png": "[encoded data removed]",
      "text/plain": [
       "<Figure size 800x600 with 1 Axes>"
      ]
     },
     "metadata": {},
     "output_type": "display_data"
    }
   ],
   "source": [
    "# Generate some points. \n",
    "\n",
    "import random, math\n",
    "import matplotlib.pyplot as plt\n",
    "\n",
    "n_points = 100\n",
    "r_points = [-1.*random.random() for _ in range(n_points)] #0 - 1\n",
    "th_points = [random.uniform(0., 2*math.pi) for _ in range(n_points)] #circle\n",
    "\n",
    "points = [(r_points[i]*abs(math.cos(th_points[i])), r_points[i]*abs(math.sin(th_points[i]))) for i in range(n_points)]\n",
    "\n",
    "\n",
    "# Print the results.\n",
    "plt.figure(1, figsize=(8, 6))\n",
    "plt.plot([p[0] for p in points], [p[1] for p in points], 'bo', label='All points')\n",
    "plt.xlabel('x', fontsize=14)\n",
    "plt.ylabel('y', fontsize=14)\n",
    "plt.legend()\n",
    "plt.xlim(-1, 1)\n",
    "plt.ylim(-1, 1)\n",
    "plt.show()"
   ]
  },
  {
   "cell_type": "markdown",
   "metadata": {},
   "source": [
    "## Non dominated sorting\n",
    "\n",
    "Non-dominated sorting is a technique used in multi-objective optimization to identify the Pareto-optimal solutions from a set of candidate solutions. In multi-objective optimization, we aim to optimize multiple conflicting objectives simultaneously.\n",
    "\n",
    "Mathematically, let's consider a set of solutions S, where each solution s ∈ S is represented by a vector of objective values f(s) = (f1(s), f2(s), ..., fn(s)). The goal of non-dominated sorting is to partition the set S into different fronts, where each front contains solutions that are not dominated by any other solution in the same front.\n",
    "\n",
    "A solution s1 dominates another solution s2 if and only if:\n",
    "1. For all objectives i, $f_{i}(s_{1}) ≤ f_{i}(s_{2})$, and\n",
    "2. There exists at least one objective j such that fj(s1) < fj(s2).\n",
    "\n",
    "To perform non-dominated sorting, we can use the following steps:\n",
    "\n",
    "1. Initialize an empty list of fronts, F.\n",
    "2. Initialize an empty set of solutions that are dominated by other solutions, D.\n",
    "3. For each solution s in S, do the following:\n",
    "    a. Initialize the domination count, n_dom, as 0.\n",
    "    b. Initialize an empty set of solutions that s dominates, S_dom.\n",
    "    c. For each solution p in S, excluding s, do the following:\n",
    "        i. If s dominates p, add p to S_dom.\n",
    "        ii. If p dominates s, increment n_dom by 1.\n",
    "    d. If n_dom is 0, add s to the first front (F[0]).\n",
    "    e. If n_dom > 0, add s to D and store S_dom as the set of solutions dominated by s.\n",
    "4. Initialize the front index, i, as 0.\n",
    "5. While F[i] is not empty, do the following:\n",
    "    a. Initialize an empty list for the next front, F_next.\n",
    "    b. For each solution s in F[i], do the following:\n",
    "        i. For each solution q in the set of solutions dominated by s, do the following:\n",
    "            - Decrement the domination count of q by 1.\n",
    "            - If the domination count of q becomes 0, add q to F_next.\n",
    "    c. Increment i by 1.\n",
    "    d. Append F_next to F.\n",
    "6. Return the list of fronts, F, where each front contains non-dominated solutions.\n",
    "\n",
    "Now, let's build a function that performs non-dominated sorting:\n",
    "\n",
    "In the above code, the `dominates()` function is a helper function that checks if one solution dominates another based on the defined dominance criteria.\n",
    "\n",
    "You can use this `non_dominated_sorting()` function to perform non-dominated sorting on a set of solutions and obtain the Pareto-optimal fronts."
   ]
  },
  {
   "cell_type": "code",
   "execution_count": 26,
   "metadata": {},
   "outputs": [],
   "source": [
    "def dominates(point1, point2, epsilon=1e-4):\n",
    "    \"\"\" Check if point1 dominates point2 based on two criteria (minimization). \"\"\"\n",
    "    return all(p1 <= p2 + epsilon for p1, p2 in zip(point1, point2)) and any(p1 < p2 - epsilon for p1, p2 in zip(point1, point2))\n",
    "\n",
    "def non_dominated_solutions(points, epsilon=1e-4):\n",
    "    \"\"\" Find non-dominated solutions (Pareto front) from a list of points. \"\"\"\n",
    "    dominated = set()\n",
    "    pareto_front = []\n",
    "\n",
    "    for i, point1 in enumerate(points):\n",
    "        if i in dominated:\n",
    "            continue\n",
    "        pareto_front.append(point1)\n",
    "        for j, point2 in enumerate(points[i + 1:], start=i + 1):\n",
    "            if dominates(point1, point2, epsilon):\n",
    "                dominated.add(j)\n",
    "            elif dominates(point2, point1, epsilon):\n",
    "                pareto_front.pop()\n",
    "                break\n",
    "\n",
    "    return pareto_front"
   ]
  },
  {
   "cell_type": "markdown",
   "metadata": {},
   "source": [
    "### Computational complexity of this \n",
    "\n",
    "\n",
    "**Outer Loop (First For Loop)**:\n",
    "The outer loop iterates over each point in the list points.\n",
    "If there are `n` points, this loop runs `n` times.\n",
    "\n",
    " - Complexity: $O(n)$\n",
    "\n",
    "**Inner Loop (Second For Loop)**:\n",
    "\n",
    "The inner loop iterates over each subsequent point in the list points starting from i + 1 (where i is the current index of the outer loop).\n",
    "\n",
    "For each point point1, it compares against all subsequent points point2 to determine dominance.\n",
    "\n",
    "In the worst case, if all points are non-dominated, each point point1 might be compared against all n−i−1 points in the inner loop.\n",
    "\n",
    " - Complexity: $O(n^{2})$ in the worst case, where each point is compared against all other points.\n",
    "\n",
    "**Domination Check (dominates Function)**:\n",
    "\n",
    "The dominates function compares two points in three dimensions, which is O(3)O(3) or O(1)O(1) constant time operation (since the dimensions are fixed).\n",
    "\n",
    "**Space Complexity**:\n",
    "        \n",
    "The space complexity is primarily determined by the dominated set and the pareto_front list.\n",
    "In the worst case, both can grow up to nn in size, resulting in $O(n)$ space complexity.\n",
    "\n",
    "**Total Computational Complexity**\n",
    "\n",
    "Given the analysis above, the overall computational complexity of finding the Pareto front using the provided algorithm is dominated by the inner loop, which is $O(n^{2})$.\n",
    "\n",
    "\n",
    "Let us now plot and check if it works"
   ]
  },
  {
   "cell_type": "code",
   "execution_count": 32,
   "metadata": {},
   "outputs": [
    {
     "name": "stdout",
     "output_type": "stream",
     "text": [
      "Non-dominated solutions (Pareto front): [(-0.7265206008381233, -0.6318989506850146), (-0.8847599354721827, -0.3411096370327478), (-0.2737679594842565, -0.858867779811139), (-0.8795988371523966, -0.3730706501878335), (-0.9491654630991407, -0.30580590829974347), (-0.9772194698525686, -0.1385923857787441), (-0.030487493008355245, -0.9656243286700339), (-0.6130231133713735, -0.7046592373273107), (-0.7977797384921846, -0.5086194822542436), (-0.6240255605762097, -0.6703524228389718), (-0.8040638691391823, -0.43066427130250234)]\n"
     ]
    },
    {
     "data": {
      "image/png": "[encoded data removed]",
      "text/plain": [
       "<Figure size 800x600 with 1 Axes>"
      ]
     },
     "metadata": {},
     "output_type": "display_data"
    }
   ],
   "source": [
    "pareto_front = non_dominated_solutions(points)\n",
    "print(\"Non-dominated solutions (Pareto front):\", pareto_front)\n",
    "\n",
    "plt.figure(2, figsize=(8, 6))\n",
    "plt.plot([p[0] for p in points], [p[1] for p in points], 'bo', label='All points')\n",
    "plt.plot([p[0] for p in pareto_front], [p[1] for p in pareto_front], 'ro', label='Nondominated points')\n",
    "plt.xlabel('x', fontsize=14)\n",
    "plt.ylabel('y', fontsize=14)\n",
    "plt.legend()\n",
    "plt.show()"
   ]
  },
  {
   "cell_type": "markdown",
   "metadata": {},
   "source": [
    "## Excersise:\n",
    "\n",
    "### 1. Can you implement the same function but for maximization?\n",
    "### 2. Can you implement the same function but for 3D points?\n",
    "### 3. Can you have an isight on how to go about a `N-D` case?"
   ]
  },
  {
   "cell_type": "markdown",
   "metadata": {},
   "source": [
    "## Computing Hyper Volume\n",
    "\n",
    "Let us remind ourself about MOO and what hypervolume is \n",
    "\n",
    "![image.png](../images/moo_concept/hv_recap.png)\n",
    "\n",
    "In multi-objective optimization (MOO), the goal is to find a set of solutions that represents the trade-off between multiple conflicting objectives. One way to evaluate the quality of these solutions is by using a metric called hypervolume.\n",
    "\n",
    "### Hypervolume\n",
    "\n",
    "Hypervolume is a measure of the dominated space in the objective space. It quantifies the extent of the Pareto-optimal front, which represents the best possible trade-off between the objectives. The hypervolume metric considers both the spread and density of solutions in the objective space.\n",
    "\n",
    "The hypervolume is calculated by defining a reference point, which represents the ideal values for each objective. The hypervolume is then computed as the volume of the dominated space between the Pareto-optimal front and the reference point.\n",
    "\n",
    "### Convergence Tracking\n",
    "\n",
    "Convergence tracking is an important aspect of MOO algorithms. It helps us understand how well the algorithm is progressing towards finding the Pareto-optimal front. Hypervolume is a useful tool for tracking convergence because it provides a quantitative measure of the quality of the obtained solutions.\n",
    "\n",
    "As the MOO algorithm iteratively improves the solutions, the hypervolume should increase. A higher hypervolume indicates a larger dominated space, which means that the algorithm is finding better solutions that are closer to the true Pareto-optimal front.\n",
    "\n",
    "By monitoring the hypervolume over iterations, we can assess the convergence behavior of the algorithm. If the hypervolume increases rapidly and then plateaus, it may indicate that the algorithm has reached a local optimum. On the other hand, if the hypervolume continues to increase steadily, it suggests that the algorithm is exploring the solution space effectively and converging towards the true Pareto-optimal front.\n",
    "\n",
    "### Tracking Convergence with Hypervolume\n",
    "\n",
    "To track convergence using hypervolume, we can calculate the hypervolume at each iteration of the MOO algorithm and plot it over time. This allows us to visualize the progress of the algorithm and make informed decisions about when to stop the optimization process.\n",
    "\n",
    "By analyzing the hypervolume plot, we can gain insights into the convergence behavior of the MOO algorithm. If the hypervolume increases steadily and reaches a plateau, it suggests that the algorithm has converged. On the other hand, if the hypervolume fluctuates or decreases, it indicates that the algorithm is not converging effectively and may require further adjustments.\n",
    "\n",
    "Tracking convergence using hypervolume provides a quantitative measure of the optimization progress and helps in making informed decisions during the MOO process.\n",
    "\n",
    "\n",
    "```{tip}\n",
    "Can you think on how can you compute this hypervolume for a 2D case?\n",
    "```"
   ]
  },
  {
   "cell_type": "code",
   "execution_count": 34,
   "metadata": {},
   "outputs": [],
   "source": [
    "import numpy as np\n",
    "import matplotlib.pyplot as plt\n",
    "\n",
    "def compute_hypervolume(points, reference_point):\n",
    "    \"\"\"\n",
    "    Compute the hypervolume from a given set of 2D points which are non-dominating solutions.\n",
    "    \n",
    "    Args:\n",
    "        points (list): List of 2D points representing non-dominating solutions.\n",
    "        reference_point (tuple): Reference point as a 2D point.\n",
    "        \n",
    "    Returns:\n",
    "        float: The hypervolume of the non-dominating solutions.\n",
    "    \"\"\"\n",
    "    # Sort the points based on the x-coordinate in ascending order\n",
    "    sorted_points = sorted(points, key=lambda p: p[0])\n",
    "    \n",
    "    # Initialize the hypervolume to 0\n",
    "    hypervolume = 0\n",
    "    \n",
    "    # Initialize the previous y-coordinate to the maximum y-coordinate\n",
    "    prev_y = max(sorted_points, key=lambda p: p[1])[1]\n",
    "    \n",
    "    # Iterate over the sorted points\n",
    "    for point in sorted_points:\n",
    "        # Calculate the width of the rectangle\n",
    "        width = point[0] - sorted_points[0][0]\n",
    "        \n",
    "        # Calculate the height of the rectangle\n",
    "        height = point[1] - prev_y\n",
    "        \n",
    "        # Update the hypervolume\n",
    "        hypervolume += width * height\n",
    "        \n",
    "        # Update the previous y-coordinate\n",
    "        prev_y = point[1]\n",
    "    \n",
    "    # Calculate the width of the last rectangle\n",
    "    width = reference_point[0] - sorted_points[0][0]\n",
    "    \n",
    "    # Calculate the height of the last rectangle\n",
    "    height = reference_point[1] - prev_y\n",
    "    \n",
    "    # Update the hypervolume with the last rectangle\n",
    "    hypervolume += width * height\n",
    "    \n",
    "    return hypervolume"
   ]
  },
  {
   "cell_type": "code",
   "execution_count": 35,
   "metadata": {},
   "outputs": [
    {
     "name": "stdout",
     "output_type": "stream",
     "text": [
      "Hypervolume: 1.8049975252594017\n"
     ]
    }
   ],
   "source": [
    "\n",
    "n_points = 100\n",
    "r_points = [-1.*random.random() for _ in range(n_points)] #0 - 1\n",
    "th_points = [random.uniform(0., 2*math.pi) for _ in range(n_points)] #circle\n",
    "\n",
    "points = [(r_points[i]*abs(math.cos(th_points[i])), r_points[i]*abs(math.sin(th_points[i]))) for i in range(n_points)]\n",
    "\n",
    "pareto_front = non_dominated_solutions(points)\n",
    "\n",
    "reference_point = (0.5, 0.5)\n",
    "\n",
    "hypervolume = compute_hypervolume(pareto_front, reference_point)\n",
    "print(\"Hypervolume:\", hypervolume)\n"
   ]
  },
  {
   "cell_type": "markdown",
   "metadata": {},
   "source": []
  }
 ],
 "metadata": {
  "kernelspec": {
   "display_name": "env_bootcamp2024",
   "language": "python",
   "name": "python3"
  },
  "language_info": {
   "codemirror_mode": {
    "name": "ipython",
    "version": 3
   },
   "file_extension": ".py",
   "mimetype": "text/x-python",
   "name": "python",
   "nbconvert_exporter": "python",
   "pygments_lexer": "ipython3",
   "version": "3.12.4"
  }
 },
 "nbformat": 4,
 "nbformat_minor": 2
}
